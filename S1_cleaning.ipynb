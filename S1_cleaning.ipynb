{
 "cells": [
  {
   "cell_type": "code",
   "execution_count": 80,
   "metadata": {},
   "outputs": [],
   "source": [
    "import mysql.connector\n",
    "import nltk\n",
    "import numpy as np\n",
    "import pandas as pd\n",
    "from nltk.tokenize import TweetTokenizer\n",
    "from nltk.stem import SnowballStemmer"
   ]
  },
  {
   "cell_type": "code",
   "execution_count": 81,
   "metadata": {},
   "outputs": [
    {
     "data": {
      "text/plain": [
       "['au',\n",
       " 'aux',\n",
       " 'avec',\n",
       " 'ce',\n",
       " 'ces',\n",
       " 'dans',\n",
       " 'de',\n",
       " 'des',\n",
       " 'du',\n",
       " 'elle',\n",
       " 'en',\n",
       " 'et',\n",
       " 'eux',\n",
       " 'il',\n",
       " 'je',\n",
       " 'la',\n",
       " 'le',\n",
       " 'leur',\n",
       " 'lui',\n",
       " 'ma',\n",
       " 'mais',\n",
       " 'me',\n",
       " 'même',\n",
       " 'mes',\n",
       " 'moi',\n",
       " 'mon',\n",
       " 'ne',\n",
       " 'nos',\n",
       " 'notre',\n",
       " 'nous',\n",
       " 'on',\n",
       " 'ou',\n",
       " 'par',\n",
       " 'pas',\n",
       " 'pour',\n",
       " 'qu',\n",
       " 'que',\n",
       " 'qui',\n",
       " 'sa',\n",
       " 'se',\n",
       " 'ses',\n",
       " 'son',\n",
       " 'sur',\n",
       " 'ta',\n",
       " 'te',\n",
       " 'tes',\n",
       " 'toi',\n",
       " 'ton',\n",
       " 'tu',\n",
       " 'un',\n",
       " 'une',\n",
       " 'vos',\n",
       " 'votre',\n",
       " 'vous',\n",
       " 'c',\n",
       " 'd',\n",
       " 'j',\n",
       " 'l',\n",
       " 'à',\n",
       " 'm',\n",
       " 'n',\n",
       " 's',\n",
       " 't',\n",
       " 'y',\n",
       " 'été',\n",
       " 'étée',\n",
       " 'étées',\n",
       " 'étés',\n",
       " 'étant',\n",
       " 'étante',\n",
       " 'étants',\n",
       " 'étantes',\n",
       " 'suis',\n",
       " 'es',\n",
       " 'est',\n",
       " 'sommes',\n",
       " 'êtes',\n",
       " 'sont',\n",
       " 'serai',\n",
       " 'seras',\n",
       " 'sera',\n",
       " 'serons',\n",
       " 'serez',\n",
       " 'seront',\n",
       " 'serais',\n",
       " 'serait',\n",
       " 'serions',\n",
       " 'seriez',\n",
       " 'seraient',\n",
       " 'étais',\n",
       " 'était',\n",
       " 'étions',\n",
       " 'étiez',\n",
       " 'étaient',\n",
       " 'fus',\n",
       " 'fut',\n",
       " 'fûmes',\n",
       " 'fûtes',\n",
       " 'furent',\n",
       " 'sois',\n",
       " 'soit',\n",
       " 'soyons',\n",
       " 'soyez',\n",
       " 'soient',\n",
       " 'fusse',\n",
       " 'fusses',\n",
       " 'fût',\n",
       " 'fussions',\n",
       " 'fussiez',\n",
       " 'fussent',\n",
       " 'ayant',\n",
       " 'ayante',\n",
       " 'ayantes',\n",
       " 'ayants',\n",
       " 'eu',\n",
       " 'eue',\n",
       " 'eues',\n",
       " 'eus',\n",
       " 'ai',\n",
       " 'as',\n",
       " 'avons',\n",
       " 'avez',\n",
       " 'ont',\n",
       " 'aurai',\n",
       " 'auras',\n",
       " 'aura',\n",
       " 'aurons',\n",
       " 'aurez',\n",
       " 'auront',\n",
       " 'aurais',\n",
       " 'aurait',\n",
       " 'aurions',\n",
       " 'auriez',\n",
       " 'auraient',\n",
       " 'avais',\n",
       " 'avait',\n",
       " 'avions',\n",
       " 'aviez',\n",
       " 'avaient',\n",
       " 'eut',\n",
       " 'eûmes',\n",
       " 'eûtes',\n",
       " 'eurent',\n",
       " 'aie',\n",
       " 'aies',\n",
       " 'ait',\n",
       " 'ayons',\n",
       " 'ayez',\n",
       " 'aient',\n",
       " 'eusse',\n",
       " 'eusses',\n",
       " 'eût',\n",
       " 'eussions',\n",
       " 'eussiez',\n",
       " 'eussent']"
      ]
     },
     "execution_count": 81,
     "metadata": {},
     "output_type": "execute_result"
    }
   ],
   "source": [
    "stopwords"
   ]
  },
  {
   "cell_type": "code",
   "execution_count": 140,
   "metadata": {},
   "outputs": [],
   "source": [
    "stopwords = nltk.corpus.stopwords.words('french')\n",
    "other_stopwords = ['de', 'ou', 'sur', 'or', 'ni', 'car', 'quand']\n",
    "punctuation = [':', '.', '(', ')', ';', '?', '...']\n",
    "stopwords.extend(other_stopwords)"
   ]
  },
  {
   "cell_type": "code",
   "execution_count": 83,
   "metadata": {},
   "outputs": [
    {
     "name": "stdout",
     "output_type": "stream",
     "text": [
      "<mysql.connector.connection_cext.CMySQLConnection object at 0x10ddedf60>\n"
     ]
    }
   ],
   "source": [
    "mydb = mysql.connector.connect(\n",
    "  host=\"localhost\",\n",
    "  user=\"root\",\n",
    "  passwd=\"password\",\n",
    "  database=\"twitter_db\"\n",
    ")\n",
    "\n",
    "print(mydb)"
   ]
  },
  {
   "cell_type": "code",
   "execution_count": 84,
   "metadata": {},
   "outputs": [
    {
     "data": {
      "text/plain": [
       "True"
      ]
     },
     "execution_count": 84,
     "metadata": {},
     "output_type": "execute_result"
    }
   ],
   "source": [
    "tweet_list = []\n",
    "\n",
    "cursor = mydb.cursor()\n",
    "\n",
    "query = (\"SELECT text FROM tweets WHERE lang='fr' LIMIT 100\")\n",
    "\n",
    "cursor.execute(query)\n",
    "\n",
    "for text in cursor:\n",
    "    tweet_list.append(text[0])\n",
    "\n",
    "cursor.close()"
   ]
  },
  {
   "cell_type": "code",
   "execution_count": 85,
   "metadata": {},
   "outputs": [
    {
     "data": {
      "text/plain": [
       "'RT @PPincon: Présidentielle 2017 : Tout savoir (ou presque) sur le parcours de Macron. https://t.co/huhGxvi3KC via @YouTube'"
      ]
     },
     "execution_count": 85,
     "metadata": {},
     "output_type": "execute_result"
    }
   ],
   "source": [
    "a_tweet = tweet_list[90]\n",
    "a_tweet"
   ]
  },
  {
   "cell_type": "code",
   "execution_count": 86,
   "metadata": {},
   "outputs": [],
   "source": [
    "tokenizer = TweetTokenizer()"
   ]
  },
  {
   "cell_type": "code",
   "execution_count": 107,
   "metadata": {},
   "outputs": [
    {
     "data": {
      "text/plain": [
       "['RT',\n",
       " '@PPincon',\n",
       " ':',\n",
       " 'Présidentielle',\n",
       " '2017',\n",
       " ':',\n",
       " 'Tout',\n",
       " 'savoir',\n",
       " '(',\n",
       " 'ou',\n",
       " 'presque',\n",
       " ')',\n",
       " 'sur',\n",
       " 'le',\n",
       " 'parcours',\n",
       " 'de',\n",
       " 'Macron',\n",
       " '.',\n",
       " 'https://t.co/huhGxvi3KC',\n",
       " 'via',\n",
       " '@YouTube']"
      ]
     },
     "execution_count": 107,
     "metadata": {},
     "output_type": "execute_result"
    }
   ],
   "source": [
    "a_tokenized_tweet = tokenizer.tokenize(a_tweet)\n",
    "a_tokenized_tweet"
   ]
  },
  {
   "cell_type": "code",
   "execution_count": 108,
   "metadata": {},
   "outputs": [],
   "source": [
    "# lowercase\n",
    "a_tokenized_tweet = a_tokenized_tweet[:]\n",
    "for i in range(len(a_tokenized_tweet)):\n",
    "    a_tokenized_tweet[i] = a_tokenized_tweet[i].lower()"
   ]
  },
  {
   "cell_type": "code",
   "execution_count": 109,
   "metadata": {},
   "outputs": [
    {
     "data": {
      "text/plain": [
       "['rt',\n",
       " '@ppincon',\n",
       " ':',\n",
       " 'présidentielle',\n",
       " '2017',\n",
       " ':',\n",
       " 'tout',\n",
       " 'savoir',\n",
       " '(',\n",
       " 'ou',\n",
       " 'presque',\n",
       " ')',\n",
       " 'sur',\n",
       " 'le',\n",
       " 'parcours',\n",
       " 'de',\n",
       " 'macron',\n",
       " '.',\n",
       " 'https://t.co/huhgxvi3kc',\n",
       " 'via',\n",
       " '@youtube']"
      ]
     },
     "execution_count": 109,
     "metadata": {},
     "output_type": "execute_result"
    }
   ],
   "source": [
    "a_tokenized_tweet"
   ]
  },
  {
   "cell_type": "code",
   "execution_count": 110,
   "metadata": {},
   "outputs": [],
   "source": [
    "# stem words\n",
    "stemmer = SnowballStemmer('french')\n",
    "\n",
    "a_tokenized_tweet = a_tokenized_tweet[:]\n",
    "for i in range(len(a_tokenized_tweet)):\n",
    "    a_tokenized_tweet[i] = stemmer.stem(a_tokenized_tweet[i])"
   ]
  },
  {
   "cell_type": "code",
   "execution_count": 111,
   "metadata": {},
   "outputs": [
    {
     "data": {
      "text/plain": [
       "['rt',\n",
       " '@ppincon',\n",
       " ':',\n",
       " 'présidentiel',\n",
       " '2017',\n",
       " ':',\n",
       " 'tout',\n",
       " 'savoir',\n",
       " '(',\n",
       " 'ou',\n",
       " 'presqu',\n",
       " ')',\n",
       " 'sur',\n",
       " 'le',\n",
       " 'parcour',\n",
       " 'de',\n",
       " 'macron',\n",
       " '.',\n",
       " 'https://t.co/huhgxvi3kc',\n",
       " 'vi',\n",
       " '@youtub']"
      ]
     },
     "execution_count": 111,
     "metadata": {},
     "output_type": "execute_result"
    }
   ],
   "source": [
    "a_tokenized_tweet"
   ]
  },
  {
   "cell_type": "code",
   "execution_count": 115,
   "metadata": {},
   "outputs": [],
   "source": [
    "# remove stopwords and punctuation\n",
    "a_tokenized_tweet = a_tokenized_tweet[:]\n",
    "for token in a_tokenized_tweet:\n",
    "    if token in stopwords or token in punctuation:\n",
    "        a_tokenized_tweet.remove(token)"
   ]
  },
  {
   "cell_type": "code",
   "execution_count": 116,
   "metadata": {},
   "outputs": [
    {
     "data": {
      "text/plain": [
       "['rt',\n",
       " '@ppincon',\n",
       " 'présidentiel',\n",
       " '2017',\n",
       " 'tout',\n",
       " 'savoir',\n",
       " 'presqu',\n",
       " 'parcour',\n",
       " 'macron',\n",
       " 'https://t.co/huhgxvi3kc',\n",
       " 'vi',\n",
       " '@youtub']"
      ]
     },
     "execution_count": 116,
     "metadata": {},
     "output_type": "execute_result"
    }
   ],
   "source": [
    "a_tokenized_tweet"
   ]
  },
  {
   "cell_type": "code",
   "execution_count": 211,
   "metadata": {},
   "outputs": [],
   "source": [
    "def clean_tweet(tweet):\n",
    "    '''\n",
    "        tokenize, lowercase, and lemmatize tweet\n",
    "    '''\n",
    "    stopwords = nltk.corpus.stopwords.words('french')\n",
    "    other_stopwords = ['de', 'ou', 'sur', 'or', 'ni', 'car', 'quand', 'a', 'mais', 'donc', 'si', 'quel', 'entre',\\\n",
    "                       'tout']\n",
    "    special_chars = ['+', '-', '%', '/', '#', '=']\n",
    "    punctuation = [':', '.', '(', ')', ';', '?', '…', ',', '!', '...', '\"']\n",
    "    stopwords.extend(other_stopwords)\n",
    "    \n",
    "    tokenizer = TweetTokenizer()\n",
    "    stemmer = SnowballStemmer('french')\n",
    "    tokens = tokenizer.tokenize(tweet)\n",
    "    \n",
    "    tokens = tokens[:]\n",
    "    # lowercase words\n",
    "    for i in range(len(tokens)):\n",
    "        tokens[i] = tokens[i].lower()\n",
    "\n",
    "    tokens = tokens[:]\n",
    "    # stem words\n",
    "    for i in range(len(tokens)):\n",
    "        tokens[i] = stemmer.stem(tokens[i])\n",
    "    \n",
    "    # remove stopwords and punctuation\n",
    "    clean_tokens = tokens[:]\n",
    "    for token in tokens:\n",
    "        if token in stopwords or token in punctuation or token in special_chars:\n",
    "            clean_tokens.remove(token)\n",
    "            \n",
    "    return clean_tokens"
   ]
  },
  {
   "cell_type": "code",
   "execution_count": 212,
   "metadata": {},
   "outputs": [
    {
     "data": {
      "text/plain": [
       "['rt',\n",
       " '@ppincon',\n",
       " 'présidentiel',\n",
       " '2017',\n",
       " 'savoir',\n",
       " 'presqu',\n",
       " 'parcour',\n",
       " 'macron',\n",
       " 'https://t.co/huhgxvi3kc',\n",
       " 'vi',\n",
       " '@youtub']"
      ]
     },
     "execution_count": 212,
     "metadata": {},
     "output_type": "execute_result"
    }
   ],
   "source": [
    "clean_tweet(a_tweet)"
   ]
  },
  {
   "cell_type": "code",
   "execution_count": 213,
   "metadata": {},
   "outputs": [],
   "source": [
    "all_tokens = []"
   ]
  },
  {
   "cell_type": "code",
   "execution_count": 214,
   "metadata": {},
   "outputs": [],
   "source": [
    "for i in range(100):    \n",
    "    all_tokens.extend(clean_tweet(tweet_list[i]))"
   ]
  },
  {
   "cell_type": "code",
   "execution_count": 215,
   "metadata": {},
   "outputs": [
    {
     "name": "stdout",
     "output_type": "stream",
     "text": [
      "['rt', '@youssefbarca', \"j'arriv\", 'caf', '9h01', '#macron', 'https://t.co/6hdqo5gk9m', 'rt', '@sochik75', 'alor', 'insoum', 'fait', 'quoi', '21', 'avril', 'invit', 'voisin', 'convainc', 'derni', 'indec', '@jjbourdin_rmc', 'pourquoi', 'pass', 'extrait', 'interview', 'fillon', 'avant', 'pend', 'apres', 'primair', 'ç', 'https://t.co/if05jgqh4j', 'mdrrr', 'fin', 'dit', 'craint', 'degun', 'https://t.co/sj9hw5lesj', 'rt', '@enima__', \"y'a\", 'mec', \"m'doit\", '20', '€', 'jlui', 'envoi', 'plein', 'photos', 'fillon', \"m'lach\", 'veut', 'comprendr', 'rend', \"l'argent\", 'fdp', 'couvert', '#p', '#antif', '#délinqu', '#extrêmegauch', '#holland', '#frontnational', '#marinelepen', '#fn', '#new', '#infos', 'https://t.co/ufxxop6zuf', 'sarkozy', 'inspir', 'macron', 'depuis', 'temp', 'dis', 'progr', 'éco', 'macron', 'proch', 'celui', '. ..', 'https://t.co/sstugb2txr', 'rt', '@jeudybruno', 'asselineau', 'mouch', 'macron', 'ête', 'toujour', \"d'accord\", 'mond', 'marin', 'pen', 'eclat', 'rir', 'macron', 'rit', 'jaun', 'rt', '@ulysse888', '#macron', \"n'y\", 'cultur', 'français', '#mélenchon', 'descendon', 'gaulois', '#hamon', 'fi', \"qu'on\", 'rt', '@sondageworid', 'rt', 'follow', 'sondag', 'préfer', '#sondag', '#fillon', '#fillon2017', '#dupontaignan', '#droit', '#presidentielle2017', 'rt', '@ibn_sayyid', 'fn', 'disent', 'côt', 'peupl', 'attaquent', 'seul', 'candidat', 'ressembl', 'peupl', 'va', 'comprendr', 'http', ':/', 'rt', '@osonscaus', 'destruct', 'droit', 'travail', 'retour', 'notr', 'vidéo', 'bien', 'comprendr', 'logiqu', 'projet', 'macron', 'fillon', 'http', ':/', 'rt', '@ptdarcol', \"l'électorat\", 'banlieu', 'benoît', 'hamon', 'demand', 'marin', 'lepen', 'mech', 'parc', \"qu'el\", 'chrétien', 'http', ':/', 'rt', '@youssefbarca', \"j'arriv\", 'caf', '9h01', '#macron', 'https://t.co/6hdqo5gk9m', 'appel', '31', 'entrepreneur', 'investisseur', 'acteur', 'numer', 'vot', 'françois', 'fillon', 'https://t.co/eophmyf1jv', 'rt', '@efoulon1', 'sûr', 'françois', '#fillon', 'apprec', \"l'allus\", 'penelop', 'fait', 'wauqu', 'soir', '#fillonlyon', 'https://t.co/ifhopiuwby', 'rt', '@lolovicdi', 'just', 'surréel', 'https://t.co/qk6ekzxhic', 'rt', '@yeswecan74', 'sénateur', 'lr', 'jean-bapt', 'lemoyn', 'appel', 'électeur', 'droit', 'vot', 'macron', 'fr', '3', 'bourgogne-franche-comt', 'https://…', 'rt', '@diote_kelly', '@eugeniebast', 'fh', 'peut-il', 'vot', 'fillon', 'pen', 'hamon', 'frondeur', 'mélenchon', 'fallu', 'articl', 'figaro', 'po', 'emmanuel', '#macron', \"l'escroquer\", 'march', 'https://t.co/yu0u3r7xyg', 'vi', '@youtub', 'rt', '@d___b_r_a_s_c_o', \"n'oubl\", '#macron', 'désign', 'franc', 'crim', 'contr', \"l'human\", 'parl', 'colonis', 'guerr', '@slmlyon', '@boblecentr', 'être', 'gauch', \"c'est\", 'avoir', 'respect', 'tous', 'mepr', 'social', 'affich', 'macron', 'rt', '@frdesouch', 'hamon', 'banlieu', '«', 'pourquoi', 'marin', 'pen', 'mech', 'parc', '’', 'chrétien', '»', 'https://t.co/sht21uoz4w', 'v', 'rt', '@simonnet2', \"c'est\", 'grossi', '@bfmtv', 'cit', \"l'institut\", 'montaign', 'évalu', 'programm', \"l'ex\", 'pdg', 'castr', \"d'ax\", 'pro', 'fillon', '@ecogine2', '@romainlesen', '@jammontpelli', '@chamade69', \"j'en\", \"j'ai\", 'autr', 'chos', 'https://t.co/36gcb6za50', 'rt', '@rdinho3', '#macron', 'ced', '#ccif', 'pr', 'gard', 'vot', 'islam', 'continu', 'polit', 'laxist', 'maîtr', '#holland', 'rt', '@etudiants_jlm', 'vérit', 'révolu', 'fiscal', 'souhaiton', 'jean-luc', 'mélenchon', '@franceinfo', 'partag', 'pr', 'c3', 'a9sidentiel', '2017', '3a', 'portugal', '2c', 'beno', 'c3', 'aet', 'hamon', 'parl', 'c3', 'a9galis', 'cannab', 'vi', '@cnewsmatin', 'rt', '@arculf', 'mond', 'met', 'tardiv', 'copi', 'programm', 'mlp', '¨', 'ça', 'veut', 'dir', \"qu'el\", 'vu', 'just', 'avant', 'franc', 'mont', 'mélenchon', 'mêm', 'gauch', 'traditionnel', 'https://t.co/x6fkog2snp', \"s'inquiet\", 'aut', 'droit', 'https://t.co/vxtmi3cygy', 'rt', '@beestoufly', 'fair', 'mêm', 'chos', 'franc', 'suff', 'mettr', 'bulletin', '#mélenchon', 'dan', \"l'urn\", '23/04', 'prochain', '#jlm2017', 'http', ':/', 'rt', '@gregoirepotton', 'programm', \"d'emmanuel\", 'macron', '2017', 'résum', '5', 'min', 'vi', '@cyrusnorth', '@thibcaizergu', '#macron2017', 'https://t.co/6q…', 'rt', '@ibn_sayyid', 'fn', 'disent', 'côt', 'peupl', 'attaquent', 'seul', 'candidat', 'ressembl', 'peupl', 'va', 'comprendr', 'http', ':/', 'rt', '@ibn_sayyid', 'fn', 'disent', 'côt', 'peupl', 'attaquent', 'seul', 'candidat', 'ressembl', 'peupl', 'va', 'comprendr', 'http', ':/', 'rt', '@ibn_sayyid', 'fn', 'disent', 'côt', 'peupl', 'attaquent', 'seul', 'candidat', 'ressembl', 'peupl', 'va', 'comprendr', 'http', ':/', 'rt', '@pardekaztv', 'mélenchon', 'hamon', 'avis', 'don', 'lepen', 'vot', 'va', \"s'la\", 'prendr', 'dan', \"l'fillon\", 'ça', 'ser', 'p', '@ecogine2', '@romainlesen', '@jammontpelli', '@chamade69', \"j'ai\", 'ca', 'auss', 'https://t.co/c0b4ueinfc', 'rt', '@poxxk', '#rappel', 'comment', '#macron', 'vendu', '#alstom', 'américain', 'extrait', '’', 'émiss', 'spécial', 'investig', 'https://t.co/dkupj3mjk9', '@marion_m_le_pen', '@frontnational67', '@federation_fn68', '@68avecmarin', '@ludo68100', '@gregorystich', '@l_lareymond', 'https://t.co/toeljb3oxy', '2nd', 'tour', '#fillon', '#mélenchon', \"l'électorat\", 'droit', 'ferm', 'yeux', 'affair', 'celui', 'gauch', 'ouvr', 'sien', '#macron', 'rt', '@jlmelenchon', 'associ', 'ong', 'spécial', 'évalu', 'notr', 'programm', 'tous', 'côt', 'recevon', \"d'excellent\", 'not', 'seul', 'rendr', 'compt', 'prob', 'st', 'fillon', 'pen.m', \"l'un\", 'démocrat', \"l'autr\", 'non', 'rt', '@floportel', 'appel', '31', 'entrepreneur', 'investisseur', 'acteur', 'numer', 'vot', '@francoisfillon', 'https://t.co/z1k5yu3sgm', 'vi', 'rt', '@freetun', '#fillon', 'rejet', 'complet', 'second', 'tour', '#mélenchon', '#lepen', 'évit', 'vot', 'util', 'droit', 'faveur', '#macron', 'rt', '@mr__kritik', 'flash', 'calm', 'tension', 'cor', 'nord', 'états-un', 'françois', 'fillon', 'promet', 'rendr', \"l'argent\", 'dommag', 'ça', 'virtuel', 'https://t.co/md3z13slh0', 'rt', '@gwgoldnadel', 'vois', 'marseil', 'commet', 'crim', 'contr', 'human', 'cultur', 'français', 'https://t.co/gvdwklqezu', 'rt', '@sigmundkeyn', 'croi', \"c'et\", 'ficel', 'mêm', 'truc', \"s'échapp\", '#jlm2017', 'concentr', 'attaqu', 'http', '@gg_rmc', '@jlmelenchon', '@marieannesoubr', 'pourquoi', 'cet', 'vidéo', 'passe-t-el', 'apres', 'pub', 'auto', 'censur', 'rmc', 'final', 'rt', '@hugocl', 'meeting', 'fillon', 'toulous', '18h43', 'connaiss', 'techniqu', 'rideau', 'cach', 'sieg', 'vid', 'https://t.co/2sudb…', 'rt', '@valeur', \"l'appel\", 'pied', 'culott', 'cop', 'fillon', '>', '>', 'https://t.co/ci1uod6vah', 'https://t.co/djlnac623v', '#eminemvsmelenchon', '#jlm2017', \"qu'un\", 'mec', 'perc', 'franc', 'eminem', 'sent', 'oblig', 'clash', 'apre', 'jul', 'boob', 'https://t.co/6botwxzbko', '@ecogine2', '@romainlesen', '@jammontpelli', '@chamade69', 'enfin', \"j'ai\", 'ca', 'https://t.co/owwwovhlyv', 'rt', '@etudiants_jlm', 'vérit', 'révolu', 'fiscal', 'souhaiton', 'jean-luc', 'mélenchon', '@franceinfo', 'partag', 'theprojecter', 'pap', 'sort', 'press', 'https://t.co/coxjzbzyq4', \"d'aujourd'hui\", 'vi', '@lanxadet', '#abon', '#fillon', 'rt', '@fil__urbain', 'perséver', 'forc', 'fillon', 'preuv', 'capac', 'présid', 'bravo', 'fillon', 'forc', '#fillon2017', 'rt', '@jjbourdin_rmc', 'f', 'fillon', 'ment', \"l'ai\", 'jam', 'insult', 'annul', \"n'a\", 'jam', 'propos', 'trois', 'autr', 'dates.ou', \"l'autor\", 'moral', 'rt', '@atlasshepard', 'mr', '@arleparmenti', \"n'aim\", '#mélenchon', 'comprend', 'cet', 'éminent', 'monsieur', \"n'est\", 'votr', 'avis', 'rt', '@frdesouch', 'affich', '@_licra_', 'portent', 'fruit', 'https://t.co/9nwpgsojro', 'largu', 'arab', 'allah', 'bordag', 'lepen', '2017', '@clichesdejigm', '#mdr71', 'rt', '@ridiculetv', 'jean', 'télésieg', 'sieur', '#macron', 'part', 'rencontr', 'peupl', 'montagn', 'ça', 'rappel', '@ecogine2', '@romainlesen', '@jammontpelli', '@chamade69', 'allez', 'pet', 'bonus', '^', '^', 'https://t.co/ajtscpr0l0', 'rt', '@lauretachoir', 'expert', 'disent', 'pauvret', 'franc', 'encor', 'insuffis', 'loisir', 'nouveau', 'millionnair', 'rt', '@11carredas11', '@emma_bovy', '@lisaguinet', '@papyli1', '@shikatamo', '@patriote_progr', '@jfkbismuth', '@nevic94', '@arculf', '@autrement_votr', 'rt', '@juliendelaland', '#fnse', 'men', '1', '#doublejeu', 'posit', 'officiel', 'équilibr', '&', 'appel', 'extrem', 'troup', '>', '#jlm2017', 'rt', '@sondageworid', 'rt', 'follow', 'sondag', 'préfer', '#sondag', '#fillon', '#fillon2017', '#dupontaignan', '#droit', '#presidentielle2017', 'rt', '@f_philippot', 'dan', 'interview', 'point', 'holland', 'appel', 'presqu', 'explicit', 'vot', 'macron', 'franc', 'voudront', 'ca', '@conardhino59', '@fholland', '@gg_rmc', '@jlmelenchon', 'parsk', 'mélenchon', 'tiendr', 'enfum', 'electeur', 'assez', 'con', 'pr', 'fair', 'avoir', 'xd', '@faniamakai', 'montag', 'macron', \"l'eyelin\", 'just', 'apres', 'tweet', 'dan', 'tl', 'rt', '@youssefbarca', \"j'arriv\", 'caf', '9h01', '#macron', 'https://t.co/6hdqo5gk9m', 'rt', '@etudiants_jlm', 'vérit', 'révolu', 'fiscal', 'souhaiton', 'jean-luc', 'mélenchon', '@franceinfo', 'partag', 'rt', '@carn_joel', '#melenchon', 'prétend', 'démocrat', 'fonction', 'mal', 'franc', 'préfer', 'régim', 'chavist', '#venezuel', 'malgr', 'rt', '@romainjamm', 'fait', '@jlmelenchon', 'banqu', 'figaro', 'bhl', 'holland', 'détestent', 'ong', 'professionnel', 'sant', 'kiffen', 'rt', '@jlmelenchon', 'associ', 'ong', 'spécial', 'évalu', 'notr', 'programm', 'tous', 'côt', 'recevon', \"d'excellent\", 'not', 'rt', '@leuohh', 'flash', 'cor', 'nord', 'demand', 'fillon', 'rendr', \"l'argent\", 'trop', 'dur', 'souten', 'candidat', \"s'écroul\", 'plus', 'vit', 'dan', 'sondag', '@melaniehrt_', '#emmanuelholland', 'https://t.co/ppzttayf8l', 'rt', '@ladroiterevient', 'cet', 'vidéo', '#fillon', 'aim', 'effac', 'https://t.co/dl4olmowwq', 'rt', '@alainsoraloffic', 'couvert', '#p', '#antif', '#délinqu', '#extrêmegauch', '#holland', '#frontnational', '#marinelepen', '#fn', '#new', '#infos', 'http', 'rt', '@philobouffon', '#moral', '#fillon', 'soi-dis', 'croi', 'convaincu', \"d'orgueil\", 'cupid', 'mensong', \"d'avaric\", 'parj', 'oh', 'pur', \"c'est\", 'banlieu', \"j'av\", 'vu', 'vidéo', 'avant', 'san', 'précis', \"j'av\", 'cru', \"c'et\", 'dan', 'dom-tom', 'https://t.co/tqmbnpn7l', 'rt', '@libedesintox', 'nombr', \"d'énorm\", 'racont', '5', 'an', 'fn', 'lr', 'propos', 'contraint', 'pénal', 'taub', 'e', 'rt', '@l_amalgameur', 'mêm', '10', 'an', 'déjà', 'éduqu', 'dan', 'hain', 'chrétien', 'parent', 'gav', \"d'alloc\", 'train', 'form', 'jean', 'luc', 'mélenchon', 'libert', 'proposit', 'rejoignent', 'recommand', 'https://t.co/iyboypqkf0', 'rt', '@alainsoraloffic', 'doivent', 'vot', '#macron', '#insolit', '#gay', '#sexual', '#mst', '#vidéo', '#youtub', 'https://t.co/gjm2cxmkb', 'rt', '@jlmelenchon', 'associ', 'ong', 'spécial', 'évalu', 'notr', 'programm', 'tous', 'côt', 'recevon', \"d'excellent\", 'not', 'rien', 'fair', 'casserol', 'preuv', 'formel', 'assist', 'jug', 'exist', 'https://t.co/7qejcqw1vp', 'rt', '@ptdarcol', \"l'électorat\", 'banlieu', 'benoît', 'hamon', 'demand', 'marin', 'lepen', 'mech', 'parc', \"qu'el\", 'chrétien', 'http', ':/', 'rt', '@ibn_sayyid', 'fn', 'disent', 'côt', 'peupl', 'attaquent', 'seul', 'candidat', 'ressembl', 'peupl', 'va', 'comprendr', 'http', ':/', 'bas', 'programm', 'dla', 'peur', 'ridicul', 'https://t.co/ndnkaa4yiu', 'rt', '@ibn_sayyid', 'fn', 'disent', 'côt', 'peupl', 'attaquent', 'seul', 'candidat', 'ressembl', 'peupl', 'va', 'comprendr', 'http', ':/', 'rt', '@ppincon', 'présidentiel', '2017', 'savoir', 'presqu', 'parcour', 'macron', 'https://t.co/huhgxvi3kc', 'vi', '@youtub', 'rt', '@israfilelraf', 'hamon', 'rencontr', 'électorat', 'immigr', 'christianophob', 'pourquoi', 'marin', 'pen', 'mech', 'parc', 'rt', '@franckboissi', 'install', 'caravan', 'insoumis', 'plac', 'morillon', '#montreuil', '@alexiscorbier', 'port', 'parol', 'rt', '@cgirard2017', '@jlmelenchon', 'mani', 'laquel', 'trait', 'animal', 'préfigur', 'violenc', 'fait', '@cyril_pouchin', '@eloise_319', '@jprichi13', '@maarawilazar', '@altiparmak12', '@jlmelenchon', 'point', '62', 'prog', '#poutenchon', 'https://t.co/g2xusajqm6', 'rt', '@dominiquereyn', '@franceinfo', 'précis', 'monopol', 'press', 'propriet', \"d'un\", 'ministr', 'holland', 'journal', 'étrang', 'http', 'rt', '@ridiculetv', '6', 'an', 'grand', 'prophet', 'pierr', 'palmad', 'prédis', 'emmanuel', 'macron', 'incroi', 'https://t.co/rpycaqv8mt', 'rt', '@leuohh', 'flash', 'cor', 'nord', 'demand', 'fillon', 'rendr', \"l'argent\", 'rt', '@romainjamm', 'fait', '@jlmelenchon', 'banqu', 'figaro', 'bhl', 'holland', 'détestent', 'ong', 'professionnel', 'sant', 'kiffen', 'rt', '@yumbo59000', 'comment', 'ça', 'person', \"n'est\", 'capabl', 'cit', 'notr', 'programm', 'apres', 'plus', \"d'un\", 'an', 'campagn', '#jlmlill']\n",
      "1211\n"
     ]
    }
   ],
   "source": [
    "print(all_tokens)\n",
    "print(len(all_tokens))"
   ]
  },
  {
   "cell_type": "code",
   "execution_count": 216,
   "metadata": {},
   "outputs": [
    {
     "name": "stdout",
     "output_type": "stream",
     "text": [
      "{'@f_philippot', 'enfum', 'vu', 'lr', 'extrait', 'évit', 'depuis', 'bravo', '#sondag', 'arab', 'numer', 'formel', '@lisaguinet', 'projet', 'racont', 'rt', 'recevon', 'bonus', '#p', 'couvert', '#ccif', '>', 'penelop', 'fin', 'pet', 'yeux', 'dir', 'malgr', 'surréel', 'dates.ou', 'https://t.co/7qejcqw1vp', 'passe-t-el', 'fallu', 'https://t.co/vxtmi3cygy', 'https://t.co/sht21uoz4w', 'c3', 'f', '#antif', 'eclat', 'not', 'met', 'parj', \"qu'un\", 'https://t.co/owwwovhlyv', 'morillon', '@ibn_sayyid', '#macron', 'fdp', '@yeswecan74', 'rendr', 'boob', '@leuohh', 'cupid', 'comment', '#fillon', '@atlasshepard', 'https://t.co/gvdwklqezu', '#emmanuelholland', 'pur', \"j'av\", '@eugeniebast', 'benoît', 'détestent', '#fnse', '#infos', 'fh', '@diote_kelly', '’', 'tardiv', 'temp', 'spécial', '#alstom', 'https://t.co/9nwpgsojro', '@patriote_progr', 'https://t.co/gjm2cxmkb', 'just', 'envoi', '#délinqu', 'rencontr', 'nombr', 'asselineau', 'sort', 'bien', 'autr', 'ministr', 'propriet', 'montaign', 'résum', 'mêm', \"l'un\", 'rend', 'allah', 'sant', 'portugal', 'https://t.co/ci1uod6vah', 'fillon', '@sochik75', 'monsieur', 'https://t.co/ufxxop6zuf', 'effac', \"d'avaric\", 'laquel', 'ête', '#doublejeu', 'social', 'ced', \"l'eyelin\", 'fiscal', 'cach', '#sexual', 'convainc', 'éduqu', '#poutenchon', '#rappel', '@fholland', '#dupontaignan', 'bulletin', 'p', 'pen', 'grand', \"n'y\", 'mlp', '9h01', 'retour', \"j'ai\", 'https://t.co/rpycaqv8mt', 'appel', 'chavist', 'sieur', '@bfmtv', 'trop', 'alor', 'invit', 'castr', 'https://t.co/if05jgqh4j', 'a9galis', 'fair', '@federation_fn68', '@valeur', 'plac', '6', '@beestoufly', 'palmad', 'luc', 'techniqu', 'pourquoi', '@gregorystich', 'cultur', 'insuffis', 'troup', '#fillonlyon', 'sondag', '#presidentielle2017', \"l'ai\", '@alainsoraloffic', 'an', 'a9sidentiel', 'exist', 'fait', \"n'aim\", 'jean-bapt', \"d'aujourd'hui\", 'soi-dis', 'indec', '@d___b_r_a_s_c_o', 'rejoignent', 'https://t.co/dkupj3mjk9', '@ludo68100', '23/04', 'enfin', \"c'est\", 'https://…', 'vendu', 'sent', 'holland', \"c'et\", '@gwgoldnadel', \"n'oubl\", 'ment', 'aet', 'https://t.co/sj9hw5lesj', 'https://t.co/c0b4ueinfc', 'jean-luc', 'st', \"d'énorm\", 'trait', 'candidat', '@_licra_', \"l'urn\", 'bourgogne-franche-comt', 'capabl', '@arculf', 'auto', \"m'doit\", 'proch', '@marieannesoubr', 'rideau', 'electeur', 'prétend', \"l'autor\", 'prendr', 'mec', \"d'ax\", 'lepen', '@thibcaizergu', 'rmc', '@68avecmarin', 'frondeur', \"l'argent\", 'comprendr', 'préfer', 'capac', 'loisir', 'macron', 'associ', 'rit', 'press', '#melenchon', 'droit', 'investig', '@ecogine2', '@dominiquereyn', '@shikatamo', 'fn', '@yumbo59000', 'oblig', 'moral', '@emma_bovy', 'pauvret', 'nord', 'https://t.co/tqmbnpn7l', 'interview', 'désign', 'respect', '#montreuil', '@philobouffon', 'degun', \"l'allus\", 'prophet', 'notr', 'logiqu', \"s'la\", 'lemoyn', '@slmlyon', 'complet', 'ridicul', '@youssefbarca', 'demand', 'colonis', '@francoisfillon', \"n'est\", 'dla', 'censur', '@boblecentr', 'laxist', 'min', 'éco', ':/', '#mst', '@altiparmak12', 'ficel', '@romainlesen', '. ..', '@jprichi13', 'françois', '@poxxk', 'mélenchon', 'sénateur', 'investisseur', 'jug', 'gauch', 'pierr', 'https://t.co/ndnkaa4yiu', 'photos', 'part', 'figaro', 'tiendr', '@jfkbismuth', 'taub', 'fruit', 'nouveau', 'https://t.co/md3z13slh0', '#jlmlill', '#eminemvsmelenchon', 'eminem', '21', 'journal', 'hamon', 'mont', 'encor', '@efoulon1', '@jeudybruno', 'télésieg', 'san', 'avant', 'virtuel', 'https://t.co/dl4olmowwq', 'contraint', 'émiss', 'mdrrr', \"l'escroquer\", '@ladroiterevient', 'contr', 'parl', 'parent', '@israfilelraf', 'déjà', 'américain', '#lepen', 'éminent', 'casserol', \"qu'el\", 'christianophob', 'côt', '@lolovicdi', 'cit', 'truc', '#gay', '#vidéo', '20', '@ridiculetv', '@carn_joel', 'ong', 'train', '@sigmundkeyn', \"d'alloc\", 'souhaiton', 'explicit', 'https://t.co/36gcb6za50', 'démocrat', '@juliendelaland', 'celui', 'mensong', '#fn', '3a', 'compt', 'insoum', 'états-un', 'derni', 'rir', 'polit', 'rejet', '@conardhino59', 'final', 'jaun', 'inspir', 'faveur', 'présidentiel', 'mepr', 'human', \"d'un\", '2017', 'avis', 'affair', 'https://t.co/sstugb2txr', \"m'lach\", '@ptdarcol', 'https://t.co/6botwxzbko', 'forc', 'expert', 'https://t.co/djlnac623v', '#extrêmegauch', 'pap', 'util', 'https://t.co/qk6ekzxhic', 'affich', '@lanxadet', '@frdesouch', 'install', 'prochain', 'https://t.co/ppzttayf8l', 'https://t.co/z1k5yu3sgm', 'marseil', 'cru', '@libedesintox', '5', 'tweet', 'électeur', 'pro', 'mettr', '#venezuel', 'doivent', 'person', 'régim', '@etudiants_jlm', '@franckboissi', 'https://t.co/2sudb…', 'traditionnel', '@maarawilazar', 'électorat', 'gard', '@sondageworid', 'ressembl', 'vérit', 'montagn', 'violenc', 'équilibr', 'portent', 'préfigur', 'crim', 'wauqu', 'calm', 'convaincu', '#hamon', '#mdr71', 'voudront', 'franc', '#holland', '@lauretachoir', '62', 'preuv', 'monopol', 'gaulois', '@gregoirepotton', \"l'human\", 'port', 'révolu', '#jlm2017', 'islam', '@nevic94', 'jam', 'follow', 'https://t.co/eophmyf1jv', 'précis', 'parsk', '@jlmelenchon', 'vot', 'être', 'dom-tom', 'articl', '18h43', 'trois', 'form', '#mélenchon', 'suff', 'incroi', 'rappel', '@romainjamm', 'prob', \"j'en\", '@faniamakai', 'immigr', 'plein', 'marin', 'don', 'libert', 'mani', 'dis', '@cgirard2017', 'grossi', 'pr', '@autrement_votr', 'croi', '@ppincon', 'http', 'point', 'sieg', \"j'arriv\", 'https://t.co/ajtscpr0l0', 'étrang', 'bhl', 'professionnel', '#abon', 'savoir', '@fil__urbain', 'commet', 'annul', '»', 'extrem', 'caravan', '@clichesdejigm', 'descendon', 'parc', 'programm', 'hain', '@jjbourdin_rmc', 'souten', '10', 'mal', 'attaquent', 'vidéo', '@jammontpelli', '@franceinfo', 'va', 'pdg', 'oh', 'chrétien', '#marinelepen', 'fi', 'flash', '@chamade69', '2nd', '#moral', 'cannab', 'https://t.co/yu0u3r7xyg', 'assez', 'tl', 'auss', '@floportel', 'rien', 'mech', 'dur', '31', 'mouch', 'clash', 'vit', '¨', '@papyli1', 'https://t.co/ifhopiuwby', 'vi', '@youtub', 'apre', 'ç', 'vid', \"s'inquiet\", 'assist', 'https://t.co/iyboypqkf0', '@gg_rmc', 'acteur', 'aut', 'plus', 'https://t.co/x6fkog2snp', 'theprojecter', \"s'écroul\", 'peur', '@hugocl', 'pub', 'apprec', 'toujour', 'emmanuel', '@freetun', 'insoumis', 'voisin', 'propos', 'sûr', 'aim', 'insult', 'pénal', 'promet', '@cyrusnorth', 'jlui', '@osonscaus', 'progr', 'connaiss', \"l'appel\", 'chos', \"s'échapp\", 'meeting', '@melaniehrt_', 'guerr', '@simonnet2', '@alexiscorbier', 'mond', 'dommag', 'attaqu', 'parol', 'recommand', 'travail', '@frontnational67', 'entrepreneur', 'prog', \"l'ex\", '#fillon2017', 'ca', 'presqu', 'beno', '#youtub', '€', 'millionnair', 'ferm', 'destruct', 'banlieu', '#new', 'caf', '@l_amalgameur', 'copi', 'posit', 'tour', \"d'emmanuel\", 'maîtr', 'animal', '@cnewsmatin', 'seul', 'con', '1', 'xd', 'soir', 'cor', 'e', 'fr', 'dit', 'proposit', 'disent', 'bas', 'craint', 'https://t.co/toeljb3oxy', 'vois', \"qu'on\", '3', 'culott', 'mr', 'peupl', 'évalu', 'tension', 'jean', 'parcour', 'gav', 'continu', 'bordag', 'quoi', '#insolit', 'po', '@11carredas11', '2c', \"l'autr\", '#frontnational', 'partag', 'ser', '#droit', 'pass', \"l'institut\", 'banqu', 'avril', 'apres', 'https://t.co/coxjzbzyq4', 'https://t.co/6q…', 'pend', 'cop', 'veut', 'ça', 'primair', '@rdinho3', 'votr', '&', 'march', 'officiel', 'cet', 'kiffen', 'avoir', '@l_lareymond', 'concentr', '@cyril_pouchin', 'v', 'https://t.co/huhgxvi3kc', 'ouvr', '@marion_m_le_pen', \"l'fillon\", '#macron2017', \"d'accord\", 'comprend', 'peut-il', '«', \"d'orgueil\", 'allez', 'sien', '@arleparmenti', 'montag', 'perc', '@mr__kritik', 'dan', 'français', \"n'a\", '@eloise_319', \"d'excellent\", 'non', 'pied', '^', '@pardekaztv', 'https://t.co/6hdqo5gk9m', 'présid', 'men', '@ulysse888', 'jul', 'prédis', 'sarkozy', 'largu', 'perséver', 'pen.m', 'fonction', 'second', '@enima__', 'tous', 'toulous', \"y'a\", 'https://t.co/g2xusajqm6', \"l'électorat\", 'campagn'}\n",
      "687\n"
     ]
    }
   ],
   "source": [
    "set_all_tokens = set(tokens for tokens in all_tokens)\n",
    "print(set_all_tokens)\n",
    "print(len(set_all_tokens))"
   ]
  }
 ],
 "metadata": {
  "kernelspec": {
   "display_name": "Python 3",
   "language": "python",
   "name": "python3"
  },
  "language_info": {
   "codemirror_mode": {
    "name": "ipython",
    "version": 3
   },
   "file_extension": ".py",
   "mimetype": "text/x-python",
   "name": "python",
   "nbconvert_exporter": "python",
   "pygments_lexer": "ipython3",
   "version": "3.5.4"
  }
 },
 "nbformat": 4,
 "nbformat_minor": 2
}
